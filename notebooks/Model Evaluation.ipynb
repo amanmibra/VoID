{
 "cells": [
  {
   "cell_type": "code",
   "execution_count": 1,
   "id": "3d2ea7d2",
   "metadata": {},
   "outputs": [],
   "source": [
    "%load_ext autoreload\n",
    "%autoreload 2"
   ]
  },
  {
   "cell_type": "markdown",
   "id": "8284a69b",
   "metadata": {},
   "source": [
    "# Dependencies"
   ]
  },
  {
   "cell_type": "code",
   "execution_count": 2,
   "id": "4c6c1cc9",
   "metadata": {},
   "outputs": [],
   "source": [
    "import sys\n",
    "sys.path.append('..')"
   ]
  },
  {
   "cell_type": "code",
   "execution_count": 3,
   "id": "f068fe7a",
   "metadata": {},
   "outputs": [],
   "source": [
    "import os\n",
    "import matplotlib.pyplot as plt\n",
    "\n",
    "# torch\n",
    "import torch\n",
    "import torchaudio\n",
    "from torch.utils.data import DataLoader\n",
    "\n",
    "# model training\n",
    "from cnn import CNNetwork\n",
    "from dataset import VoiceDataset\n",
    "from train import train"
   ]
  },
  {
   "cell_type": "markdown",
   "id": "aa60fe45",
   "metadata": {},
   "source": [
    "## Globals"
   ]
  },
  {
   "cell_type": "code",
   "execution_count": 4,
   "id": "bc6c9332",
   "metadata": {},
   "outputs": [],
   "source": [
    "DATA_PATH = os.path.join('..', 'data')"
   ]
  },
  {
   "cell_type": "code",
   "execution_count": 5,
   "id": "ad3d1169",
   "metadata": {},
   "outputs": [],
   "source": [
    "TRAIN_PATH = os.path.join(DATA_PATH, 'train')\n",
    "TEST_PATH = os.path.join(DATA_PATH, 'test')"
   ]
  },
  {
   "cell_type": "code",
   "execution_count": 6,
   "id": "e10dc1a9",
   "metadata": {},
   "outputs": [],
   "source": [
    "EPOCHS = 100\n",
    "BATCH_SIZE = 128\n",
    "LEARNING_RATE = 0.001\n",
    "SAMPLE_RATE=16000"
   ]
  },
  {
   "cell_type": "code",
   "execution_count": 7,
   "id": "9f746e8d",
   "metadata": {},
   "outputs": [],
   "source": [
    "MEL_SPEC = torchaudio.transforms.MelSpectrogram(\n",
    "    n_fft=1024,\n",
    "    hop_length=512,\n",
    "    n_mels=64,\n",
    "    sample_rate=SAMPLE_RATE,\n",
    ")"
   ]
  },
  {
   "cell_type": "markdown",
   "id": "d8c08b17",
   "metadata": {},
   "source": [
    "# `train()` setup"
   ]
  },
  {
   "cell_type": "code",
   "execution_count": 8,
   "id": "44565556",
   "metadata": {},
   "outputs": [
    {
     "name": "stdout",
     "output_type": "stream",
     "text": [
      "Using cpu device.\n"
     ]
    }
   ],
   "source": [
    "if torch.cuda.is_available():\n",
    "    device = \"cuda\"\n",
    "else:\n",
    "    device = \"cpu\"\n",
    "print(f\"Using {device} device.\")"
   ]
  },
  {
   "cell_type": "code",
   "execution_count": 9,
   "id": "32313c52",
   "metadata": {},
   "outputs": [],
   "source": [
    "# Datasets\n",
    "train_dataset = VoiceDataset(TRAIN_PATH, MEL_SPEC, SAMPLE_RATE, device)\n",
    "test_dataset = VoiceDataset(TEST_PATH, MEL_SPEC, SAMPLE_RATE, device)\n",
    "\n",
    "# Dataloaders\n",
    "train_dataloader = DataLoader(train_dataset, batch_size=BATCH_SIZE, shuffle=True)\n",
    "test_dataloader = DataLoader(test_dataset, batch_size=BATCH_SIZE, shuffle=True)"
   ]
  },
  {
   "cell_type": "code",
   "execution_count": 10,
   "id": "e0ff8f5a",
   "metadata": {},
   "outputs": [],
   "source": [
    "model = CNNetwork().to(device)"
   ]
  },
  {
   "cell_type": "code",
   "execution_count": 11,
   "id": "f0f619c3",
   "metadata": {},
   "outputs": [],
   "source": [
    "loss_fn = torch.nn.CrossEntropyLoss()\n",
    "optimizer = torch.optim.Adam(model.parameters(), lr=LEARNING_RATE)"
   ]
  },
  {
   "cell_type": "markdown",
   "id": "827bb69a",
   "metadata": {},
   "source": [
    "# Train/Test"
   ]
  },
  {
   "cell_type": "code",
   "execution_count": 12,
   "id": "92a2715f",
   "metadata": {},
   "outputs": [
    {
     "name": "stderr",
     "output_type": "stream",
     "text": [
      "\r",
      "Training model...:   0%|                                                           | 0/100 [00:00<?, ?it/s]"
     ]
    },
    {
     "name": "stdout",
     "output_type": "stream",
     "text": [
      "Epoch 1\n"
     ]
    },
    {
     "name": "stderr",
     "output_type": "stream",
     "text": [
      "\r",
      "Training model...:   1%|▍                                                | 1/100 [00:45<1:15:43, 45.89s/it]"
     ]
    },
    {
     "name": "stdout",
     "output_type": "stream",
     "text": [
      "Training Loss: 0.73, Training Accuracy  0.84\n",
      "Testing Loss: 0.71, Testing Accuracy  0.84\n",
      "-------------------------------------------- \n",
      "\n",
      "Epoch 2\n"
     ]
    },
    {
     "name": "stderr",
     "output_type": "stream",
     "text": [
      "\r",
      "Training model...:   2%|▉                                                | 2/100 [01:31<1:14:30, 45.61s/it]"
     ]
    },
    {
     "name": "stdout",
     "output_type": "stream",
     "text": [
      "Training Loss: 0.73, Training Accuracy  0.82\n",
      "Testing Loss: 0.76, Testing Accuracy  0.79\n",
      "-------------------------------------------- \n",
      "\n",
      "Epoch 3\n"
     ]
    },
    {
     "name": "stderr",
     "output_type": "stream",
     "text": [
      "\r",
      "Training model...:   3%|█▍                                               | 3/100 [02:16<1:13:38, 45.55s/it]"
     ]
    },
    {
     "name": "stdout",
     "output_type": "stream",
     "text": [
      "Training Loss: 0.77, Training Accuracy  0.78\n",
      "Testing Loss: 0.71, Testing Accuracy  0.84\n",
      "-------------------------------------------- \n",
      "\n",
      "Epoch 4\n"
     ]
    },
    {
     "name": "stderr",
     "output_type": "stream",
     "text": [
      "\r",
      "Training model...:   4%|█▉                                               | 4/100 [03:02<1:12:43, 45.46s/it]"
     ]
    },
    {
     "name": "stdout",
     "output_type": "stream",
     "text": [
      "Training Loss: 0.73, Training Accuracy  0.82\n",
      "Testing Loss: 0.66, Testing Accuracy  0.89\n",
      "-------------------------------------------- \n",
      "\n",
      "Epoch 5\n"
     ]
    },
    {
     "name": "stderr",
     "output_type": "stream",
     "text": [
      "\r",
      "Training model...:   5%|██▍                                              | 5/100 [03:47<1:11:51, 45.38s/it]"
     ]
    },
    {
     "name": "stdout",
     "output_type": "stream",
     "text": [
      "Training Loss: 0.65, Training Accuracy  0.90\n",
      "Testing Loss: 0.71, Testing Accuracy  0.84\n",
      "-------------------------------------------- \n",
      "\n",
      "Epoch 6\n"
     ]
    },
    {
     "name": "stderr",
     "output_type": "stream",
     "text": [
      "\r",
      "Training model...:   6%|██▉                                              | 6/100 [04:32<1:11:05, 45.37s/it]"
     ]
    },
    {
     "name": "stdout",
     "output_type": "stream",
     "text": [
      "Training Loss: 0.65, Training Accuracy  0.90\n",
      "Testing Loss: 0.55, Testing Accuracy  1.00\n",
      "-------------------------------------------- \n",
      "\n",
      "Epoch 7\n"
     ]
    },
    {
     "name": "stderr",
     "output_type": "stream",
     "text": [
      "\r",
      "Training model...:   7%|███▍                                             | 7/100 [05:17<1:10:09, 45.27s/it]"
     ]
    },
    {
     "name": "stdout",
     "output_type": "stream",
     "text": [
      "Training Loss: 0.60, Training Accuracy  0.95\n",
      "Testing Loss: 0.55, Testing Accuracy  1.00\n",
      "-------------------------------------------- \n",
      "\n",
      "Epoch 8\n"
     ]
    },
    {
     "name": "stderr",
     "output_type": "stream",
     "text": [
      "\r",
      "Training model...:   8%|███▉                                             | 8/100 [06:03<1:09:29, 45.32s/it]"
     ]
    },
    {
     "name": "stdout",
     "output_type": "stream",
     "text": [
      "Training Loss: 0.59, Training Accuracy  0.96\n",
      "Testing Loss: 0.60, Testing Accuracy  0.95\n",
      "-------------------------------------------- \n",
      "\n",
      "Epoch 9\n"
     ]
    },
    {
     "name": "stderr",
     "output_type": "stream",
     "text": [
      "\r",
      "Training model...:   9%|████▍                                            | 9/100 [06:48<1:08:47, 45.36s/it]"
     ]
    },
    {
     "name": "stdout",
     "output_type": "stream",
     "text": [
      "Training Loss: 0.59, Training Accuracy  0.96\n",
      "Testing Loss: 0.60, Testing Accuracy  0.95\n",
      "-------------------------------------------- \n",
      "\n",
      "Epoch 10\n"
     ]
    },
    {
     "name": "stderr",
     "output_type": "stream",
     "text": [
      "\r",
      "Training model...:  10%|████▊                                           | 10/100 [07:34<1:08:08, 45.42s/it]"
     ]
    },
    {
     "name": "stdout",
     "output_type": "stream",
     "text": [
      "Training Loss: 0.59, Training Accuracy  0.96\n",
      "Testing Loss: 0.55, Testing Accuracy  1.00\n",
      "-------------------------------------------- \n",
      "\n",
      "Epoch 11\n"
     ]
    },
    {
     "name": "stderr",
     "output_type": "stream",
     "text": [
      "\r",
      "Training model...:  11%|█████▎                                          | 11/100 [08:19<1:07:23, 45.43s/it]"
     ]
    },
    {
     "name": "stdout",
     "output_type": "stream",
     "text": [
      "Training Loss: 0.58, Training Accuracy  0.97\n",
      "Testing Loss: 0.55, Testing Accuracy  1.00\n",
      "-------------------------------------------- \n",
      "\n",
      "Epoch 12\n"
     ]
    },
    {
     "name": "stderr",
     "output_type": "stream",
     "text": [
      "\r",
      "Training model...:  12%|█████▊                                          | 12/100 [09:05<1:07:02, 45.71s/it]"
     ]
    },
    {
     "name": "stdout",
     "output_type": "stream",
     "text": [
      "Training Loss: 0.58, Training Accuracy  0.97\n",
      "Testing Loss: 0.71, Testing Accuracy  0.84\n",
      "-------------------------------------------- \n",
      "\n",
      "Epoch 13\n"
     ]
    },
    {
     "name": "stderr",
     "output_type": "stream",
     "text": [
      "\r",
      "Training model...:  13%|██████▏                                         | 13/100 [09:52<1:06:43, 46.02s/it]"
     ]
    },
    {
     "name": "stdout",
     "output_type": "stream",
     "text": [
      "Training Loss: 0.61, Training Accuracy  0.94\n",
      "Testing Loss: 0.60, Testing Accuracy  0.95\n",
      "-------------------------------------------- \n",
      "\n",
      "Epoch 14\n",
      "Training Loss: 0.59, Training Accuracy  0.96\n"
     ]
    },
    {
     "name": "stderr",
     "output_type": "stream",
     "text": [
      "\r",
      "Training model...:  14%|██████▋                                         | 14/100 [10:52<1:12:04, 50.28s/it]"
     ]
    },
    {
     "name": "stdout",
     "output_type": "stream",
     "text": [
      "Testing Loss: 0.55, Testing Accuracy  1.00\n",
      "-------------------------------------------- \n",
      "\n",
      "Epoch 15\n"
     ]
    },
    {
     "name": "stderr",
     "output_type": "stream",
     "text": [
      "\r",
      "Training model...:  15%|███████                                        | 15/100 [16:47<3:21:11, 142.02s/it]"
     ]
    },
    {
     "name": "stdout",
     "output_type": "stream",
     "text": [
      "Training Loss: 0.58, Training Accuracy  0.97\n",
      "Testing Loss: 0.60, Testing Accuracy  0.95\n",
      "-------------------------------------------- \n",
      "\n",
      "Epoch 16\n"
     ]
    },
    {
     "name": "stderr",
     "output_type": "stream",
     "text": [
      "\r",
      "Training model...:  16%|███████▌                                       | 16/100 [17:38<2:40:16, 114.49s/it]"
     ]
    },
    {
     "name": "stdout",
     "output_type": "stream",
     "text": [
      "Training Loss: 0.58, Training Accuracy  0.97\n",
      "Testing Loss: 0.55, Testing Accuracy  1.00\n",
      "-------------------------------------------- \n",
      "\n",
      "Epoch 17\n"
     ]
    },
    {
     "name": "stderr",
     "output_type": "stream",
     "text": [
      "\r",
      "Training model...:  17%|████████▏                                       | 17/100 [18:25<2:10:31, 94.35s/it]"
     ]
    },
    {
     "name": "stdout",
     "output_type": "stream",
     "text": [
      "Training Loss: 0.58, Training Accuracy  0.97\n",
      "Testing Loss: 0.55, Testing Accuracy  1.00\n",
      "-------------------------------------------- \n",
      "\n",
      "Epoch 18\n"
     ]
    },
    {
     "name": "stderr",
     "output_type": "stream",
     "text": [
      "\r",
      "Training model...:  18%|████████▋                                       | 18/100 [19:13<1:49:46, 80.32s/it]"
     ]
    },
    {
     "name": "stdout",
     "output_type": "stream",
     "text": [
      "Training Loss: 0.58, Training Accuracy  0.98\n",
      "Testing Loss: 0.55, Testing Accuracy  1.00\n",
      "-------------------------------------------- \n",
      "\n",
      "Epoch 19\n"
     ]
    },
    {
     "name": "stderr",
     "output_type": "stream",
     "text": [
      "\r",
      "Training model...:  19%|█████████                                       | 19/100 [20:00<1:35:02, 70.40s/it]"
     ]
    },
    {
     "name": "stdout",
     "output_type": "stream",
     "text": [
      "Training Loss: 0.58, Training Accuracy  0.97\n",
      "Testing Loss: 0.55, Testing Accuracy  1.00\n",
      "-------------------------------------------- \n",
      "\n",
      "Epoch 20\n"
     ]
    },
    {
     "name": "stderr",
     "output_type": "stream",
     "text": [
      "\r",
      "Training model...:  20%|█████████▌                                      | 20/100 [20:47<1:24:38, 63.48s/it]"
     ]
    },
    {
     "name": "stdout",
     "output_type": "stream",
     "text": [
      "Training Loss: 0.59, Training Accuracy  0.96\n",
      "Testing Loss: 0.60, Testing Accuracy  0.95\n",
      "-------------------------------------------- \n",
      "\n",
      "Epoch 21\n"
     ]
    },
    {
     "name": "stderr",
     "output_type": "stream",
     "text": [
      "\r",
      "Training model...:  21%|██████████                                      | 21/100 [21:35<1:17:10, 58.62s/it]"
     ]
    },
    {
     "name": "stdout",
     "output_type": "stream",
     "text": [
      "Training Loss: 0.64, Training Accuracy  0.91\n",
      "Testing Loss: 0.60, Testing Accuracy  0.95\n",
      "-------------------------------------------- \n",
      "\n",
      "Epoch 22\n"
     ]
    },
    {
     "name": "stderr",
     "output_type": "stream",
     "text": [
      "\r",
      "Training model...:  22%|██████████▌                                     | 22/100 [22:23<1:12:04, 55.44s/it]"
     ]
    },
    {
     "name": "stdout",
     "output_type": "stream",
     "text": [
      "Training Loss: 0.59, Training Accuracy  0.96\n",
      "Testing Loss: 0.60, Testing Accuracy  0.95\n",
      "-------------------------------------------- \n",
      "\n",
      "Epoch 23\n"
     ]
    },
    {
     "name": "stderr",
     "output_type": "stream",
     "text": [
      "\r",
      "Training model...:  23%|███████████                                     | 23/100 [23:11<1:08:20, 53.25s/it]"
     ]
    },
    {
     "name": "stdout",
     "output_type": "stream",
     "text": [
      "Training Loss: 0.57, Training Accuracy  0.98\n",
      "Testing Loss: 0.60, Testing Accuracy  0.95\n",
      "-------------------------------------------- \n",
      "\n",
      "Epoch 24\n"
     ]
    },
    {
     "name": "stderr",
     "output_type": "stream",
     "text": [
      "\r",
      "Training model...:  24%|███████████▌                                    | 24/100 [23:57<1:04:54, 51.25s/it]"
     ]
    },
    {
     "name": "stdout",
     "output_type": "stream",
     "text": [
      "Training Loss: 0.57, Training Accuracy  0.98\n",
      "Testing Loss: 0.55, Testing Accuracy  1.00\n",
      "-------------------------------------------- \n",
      "\n",
      "Epoch 25\n"
     ]
    },
    {
     "name": "stderr",
     "output_type": "stream",
     "text": [
      "\r",
      "Training model...:  25%|████████████                                    | 25/100 [24:44<1:02:18, 49.84s/it]"
     ]
    },
    {
     "name": "stdout",
     "output_type": "stream",
     "text": [
      "Training Loss: 0.57, Training Accuracy  0.98\n",
      "Testing Loss: 0.60, Testing Accuracy  0.95\n",
      "-------------------------------------------- \n",
      "\n",
      "Epoch 26\n"
     ]
    },
    {
     "name": "stderr",
     "output_type": "stream",
     "text": [
      "\r",
      "Training model...:  26%|████████████▍                                   | 26/100 [25:31<1:00:17, 48.88s/it]"
     ]
    },
    {
     "name": "stdout",
     "output_type": "stream",
     "text": [
      "Training Loss: 0.57, Training Accuracy  0.99\n",
      "Testing Loss: 0.60, Testing Accuracy  0.95\n",
      "-------------------------------------------- \n",
      "\n",
      "Epoch 27\n"
     ]
    },
    {
     "name": "stderr",
     "output_type": "stream",
     "text": [
      "\r",
      "Training model...:  27%|█████████████▌                                    | 27/100 [26:17<58:38, 48.20s/it]"
     ]
    },
    {
     "name": "stdout",
     "output_type": "stream",
     "text": [
      "Training Loss: 0.56, Training Accuracy  0.99\n",
      "Testing Loss: 0.60, Testing Accuracy  0.95\n",
      "-------------------------------------------- \n",
      "\n",
      "Epoch 28\n"
     ]
    },
    {
     "name": "stderr",
     "output_type": "stream",
     "text": [
      "\r",
      "Training model...:  28%|██████████████                                    | 28/100 [27:04<57:20, 47.78s/it]"
     ]
    },
    {
     "name": "stdout",
     "output_type": "stream",
     "text": [
      "Training Loss: 0.56, Training Accuracy  0.99\n",
      "Testing Loss: 0.60, Testing Accuracy  0.95\n",
      "-------------------------------------------- \n",
      "\n",
      "Epoch 29\n"
     ]
    },
    {
     "name": "stderr",
     "output_type": "stream",
     "text": [
      "\r",
      "Training model...:  29%|█████████████▉                                  | 29/100 [28:51<1:17:25, 65.43s/it]"
     ]
    },
    {
     "name": "stdout",
     "output_type": "stream",
     "text": [
      "Training Loss: 0.56, Training Accuracy  0.99\n",
      "Testing Loss: 0.55, Testing Accuracy  1.00\n",
      "-------------------------------------------- \n",
      "\n",
      "Epoch 30\n"
     ]
    },
    {
     "name": "stderr",
     "output_type": "stream",
     "text": [
      "\r",
      "Training model...:  30%|██████████████                                 | 30/100 [42:13<5:34:16, 286.52s/it]"
     ]
    },
    {
     "name": "stdout",
     "output_type": "stream",
     "text": [
      "Training Loss: 0.56, Training Accuracy  0.99\n",
      "Testing Loss: 0.60, Testing Accuracy  0.95\n",
      "-------------------------------------------- \n",
      "\n",
      "Epoch 31\n"
     ]
    },
    {
     "name": "stderr",
     "output_type": "stream",
     "text": [
      "\r",
      "Training model...:  31%|██████████████▌                                | 31/100 [42:59<4:06:37, 214.46s/it]"
     ]
    },
    {
     "name": "stdout",
     "output_type": "stream",
     "text": [
      "Training Loss: 0.56, Training Accuracy  0.99\n",
      "Testing Loss: 0.55, Testing Accuracy  1.00\n",
      "-------------------------------------------- \n",
      "\n",
      "Epoch 32\n"
     ]
    },
    {
     "name": "stderr",
     "output_type": "stream",
     "text": [
      "\r",
      "Training model...:  32%|███████████████                                | 32/100 [43:45<3:05:47, 163.94s/it]"
     ]
    },
    {
     "name": "stdout",
     "output_type": "stream",
     "text": [
      "Training Loss: 0.56, Training Accuracy  0.99\n",
      "Testing Loss: 0.60, Testing Accuracy  0.95\n",
      "-------------------------------------------- \n",
      "\n",
      "Epoch 33\n"
     ]
    },
    {
     "name": "stderr",
     "output_type": "stream",
     "text": [
      "\r",
      "Training model...:  33%|███████████████▌                               | 33/100 [44:32<2:23:41, 128.67s/it]"
     ]
    },
    {
     "name": "stdout",
     "output_type": "stream",
     "text": [
      "Training Loss: 0.57, Training Accuracy  0.98\n",
      "Testing Loss: 0.60, Testing Accuracy  0.95\n",
      "-------------------------------------------- \n",
      "\n",
      "Epoch 34\n"
     ]
    },
    {
     "name": "stderr",
     "output_type": "stream",
     "text": [
      "\r",
      "Training model...:  34%|███████████████▉                               | 34/100 [45:18<1:54:26, 104.04s/it]"
     ]
    },
    {
     "name": "stdout",
     "output_type": "stream",
     "text": [
      "Training Loss: 0.57, Training Accuracy  0.98\n",
      "Testing Loss: 0.55, Testing Accuracy  1.00\n",
      "-------------------------------------------- \n",
      "\n",
      "Epoch 35\n"
     ]
    },
    {
     "name": "stderr",
     "output_type": "stream",
     "text": [
      "\r",
      "Training model...:  35%|████████████████▊                               | 35/100 [46:05<1:33:56, 86.71s/it]"
     ]
    },
    {
     "name": "stdout",
     "output_type": "stream",
     "text": [
      "Training Loss: 0.57, Training Accuracy  0.98\n",
      "Testing Loss: 0.60, Testing Accuracy  0.95\n",
      "-------------------------------------------- \n",
      "\n",
      "Epoch 36\n"
     ]
    },
    {
     "name": "stderr",
     "output_type": "stream",
     "text": [
      "\r",
      "Training model...:  36%|█████████████████▎                              | 36/100 [46:51<1:19:35, 74.62s/it]"
     ]
    },
    {
     "name": "stdout",
     "output_type": "stream",
     "text": [
      "Training Loss: 0.62, Training Accuracy  0.93\n",
      "Testing Loss: 0.60, Testing Accuracy  0.95\n",
      "-------------------------------------------- \n",
      "\n",
      "Epoch 37\n"
     ]
    },
    {
     "name": "stderr",
     "output_type": "stream",
     "text": [
      "\r",
      "Training model...:  37%|█████████████████▊                              | 37/100 [47:37<1:09:28, 66.17s/it]"
     ]
    },
    {
     "name": "stdout",
     "output_type": "stream",
     "text": [
      "Training Loss: 0.59, Training Accuracy  0.96\n",
      "Testing Loss: 0.60, Testing Accuracy  0.95\n",
      "-------------------------------------------- \n",
      "\n",
      "Epoch 38\n"
     ]
    },
    {
     "name": "stderr",
     "output_type": "stream",
     "text": [
      "\r",
      "Training model...:  38%|██████████████████▏                             | 38/100 [48:24<1:02:15, 60.24s/it]"
     ]
    },
    {
     "name": "stdout",
     "output_type": "stream",
     "text": [
      "Training Loss: 0.57, Training Accuracy  0.98\n",
      "Testing Loss: 0.60, Testing Accuracy  0.95\n",
      "-------------------------------------------- \n",
      "\n",
      "Epoch 39\n"
     ]
    },
    {
     "name": "stderr",
     "output_type": "stream",
     "text": [
      "\r",
      "Training model...:  39%|███████████████████▌                              | 39/100 [49:11<57:10, 56.24s/it]"
     ]
    },
    {
     "name": "stdout",
     "output_type": "stream",
     "text": [
      "Training Loss: 0.56, Training Accuracy  0.99\n",
      "Testing Loss: 0.60, Testing Accuracy  0.95\n",
      "-------------------------------------------- \n",
      "\n",
      "Epoch 40\n"
     ]
    },
    {
     "name": "stderr",
     "output_type": "stream",
     "text": [
      "\r",
      "Training model...:  40%|████████████████████                              | 40/100 [49:57<53:20, 53.35s/it]"
     ]
    },
    {
     "name": "stdout",
     "output_type": "stream",
     "text": [
      "Training Loss: 0.57, Training Accuracy  0.99\n",
      "Testing Loss: 0.55, Testing Accuracy  1.00\n",
      "-------------------------------------------- \n",
      "\n",
      "Epoch 41\n"
     ]
    },
    {
     "name": "stderr",
     "output_type": "stream",
     "text": [
      "\r",
      "Training model...:  41%|████████████████████▌                             | 41/100 [50:43<50:19, 51.18s/it]"
     ]
    },
    {
     "name": "stdout",
     "output_type": "stream",
     "text": [
      "Training Loss: 0.58, Training Accuracy  0.97\n",
      "Testing Loss: 0.55, Testing Accuracy  1.00\n",
      "-------------------------------------------- \n",
      "\n",
      "Epoch 42\n"
     ]
    },
    {
     "name": "stderr",
     "output_type": "stream",
     "text": [
      "\r",
      "Training model...:  42%|█████████████████████                             | 42/100 [51:30<48:04, 49.73s/it]"
     ]
    },
    {
     "name": "stdout",
     "output_type": "stream",
     "text": [
      "Training Loss: 0.56, Training Accuracy  0.99\n",
      "Testing Loss: 0.55, Testing Accuracy  1.00\n",
      "-------------------------------------------- \n",
      "\n",
      "Epoch 43\n"
     ]
    },
    {
     "name": "stderr",
     "output_type": "stream",
     "text": [
      "\r",
      "Training model...:  43%|█████████████████████▌                            | 43/100 [52:16<46:10, 48.61s/it]"
     ]
    },
    {
     "name": "stdout",
     "output_type": "stream",
     "text": [
      "Training Loss: 0.56, Training Accuracy  0.99\n",
      "Testing Loss: 0.60, Testing Accuracy  0.95\n",
      "-------------------------------------------- \n",
      "\n",
      "Epoch 44\n"
     ]
    },
    {
     "name": "stderr",
     "output_type": "stream",
     "text": [
      "\r",
      "Training model...:  44%|████████████████████▋                          | 44/100 [58:22<2:14:12, 143.79s/it]"
     ]
    },
    {
     "name": "stdout",
     "output_type": "stream",
     "text": [
      "Training Loss: 0.56, Training Accuracy  0.99\n",
      "Testing Loss: 0.60, Testing Accuracy  0.95\n",
      "-------------------------------------------- \n",
      "\n",
      "Epoch 45\n"
     ]
    },
    {
     "name": "stderr",
     "output_type": "stream",
     "text": [
      "\r",
      "Training model...:  45%|████████████████████▎                        | 45/100 [1:14:56<6:05:37, 398.86s/it]"
     ]
    },
    {
     "name": "stdout",
     "output_type": "stream",
     "text": [
      "Training Loss: 0.56, Training Accuracy  0.99\n",
      "Testing Loss: 0.55, Testing Accuracy  1.00\n",
      "-------------------------------------------- \n",
      "\n",
      "Epoch 46\n"
     ]
    },
    {
     "name": "stderr",
     "output_type": "stream",
     "text": [
      "\r",
      "Training model...:  46%|████████████████████▋                        | 46/100 [1:15:48<4:25:15, 294.73s/it]"
     ]
    },
    {
     "name": "stdout",
     "output_type": "stream",
     "text": [
      "Training Loss: 0.56, Training Accuracy  0.99\n",
      "Testing Loss: 0.55, Testing Accuracy  1.00\n",
      "-------------------------------------------- \n",
      "\n",
      "Epoch 47\n"
     ]
    },
    {
     "name": "stderr",
     "output_type": "stream",
     "text": [
      "\r",
      "Training model...:  47%|█████████████████████▏                       | 47/100 [1:16:37<3:15:15, 221.05s/it]"
     ]
    },
    {
     "name": "stdout",
     "output_type": "stream",
     "text": [
      "Training Loss: 0.56, Training Accuracy  0.99\n",
      "Testing Loss: 0.55, Testing Accuracy  1.00\n",
      "-------------------------------------------- \n",
      "\n",
      "Epoch 48\n"
     ]
    },
    {
     "name": "stderr",
     "output_type": "stream",
     "text": [
      "\r",
      "Training model...:  48%|█████████████████████▌                       | 48/100 [1:17:27<2:27:04, 169.71s/it]"
     ]
    },
    {
     "name": "stdout",
     "output_type": "stream",
     "text": [
      "Training Loss: 0.56, Training Accuracy  0.99\n",
      "Testing Loss: 0.55, Testing Accuracy  1.00\n",
      "-------------------------------------------- \n",
      "\n",
      "Epoch 49\n"
     ]
    },
    {
     "name": "stderr",
     "output_type": "stream",
     "text": [
      "\r",
      "Training model...:  49%|██████████████████████                       | 49/100 [1:18:15<1:53:23, 133.41s/it]"
     ]
    },
    {
     "name": "stdout",
     "output_type": "stream",
     "text": [
      "Training Loss: 0.56, Training Accuracy  0.99\n",
      "Testing Loss: 0.55, Testing Accuracy  1.00\n",
      "-------------------------------------------- \n",
      "\n",
      "Epoch 50\n"
     ]
    },
    {
     "name": "stderr",
     "output_type": "stream",
     "text": [
      "\r",
      "Training model...:  50%|██████████████████████▌                      | 50/100 [1:19:04<1:30:06, 108.12s/it]"
     ]
    },
    {
     "name": "stdout",
     "output_type": "stream",
     "text": [
      "Training Loss: 0.56, Training Accuracy  0.99\n",
      "Testing Loss: 0.55, Testing Accuracy  1.00\n",
      "-------------------------------------------- \n",
      "\n",
      "Epoch 51\n"
     ]
    },
    {
     "name": "stderr",
     "output_type": "stream",
     "text": [
      "\r",
      "Training model...:  51%|███████████████████████▍                      | 51/100 [1:19:53<1:13:39, 90.18s/it]"
     ]
    },
    {
     "name": "stdout",
     "output_type": "stream",
     "text": [
      "Training Loss: 0.56, Training Accuracy  0.99\n",
      "Testing Loss: 0.55, Testing Accuracy  1.00\n",
      "-------------------------------------------- \n",
      "\n",
      "Epoch 52\n"
     ]
    },
    {
     "name": "stderr",
     "output_type": "stream",
     "text": [
      "\r",
      "Training model...:  52%|███████████████████████▉                      | 52/100 [1:20:43<1:02:36, 78.25s/it]"
     ]
    },
    {
     "name": "stdout",
     "output_type": "stream",
     "text": [
      "Training Loss: 0.56, Training Accuracy  0.99\n",
      "Testing Loss: 0.55, Testing Accuracy  1.00\n",
      "-------------------------------------------- \n",
      "\n",
      "Epoch 53\n"
     ]
    },
    {
     "name": "stderr",
     "output_type": "stream",
     "text": [
      "\r",
      "Training model...:  53%|█████████████████████████▍                      | 53/100 [1:21:34<54:50, 70.00s/it]"
     ]
    },
    {
     "name": "stdout",
     "output_type": "stream",
     "text": [
      "Training Loss: 0.56, Training Accuracy  0.99\n",
      "Testing Loss: 0.60, Testing Accuracy  0.95\n",
      "-------------------------------------------- \n",
      "\n",
      "Epoch 54\n"
     ]
    },
    {
     "name": "stderr",
     "output_type": "stream",
     "text": [
      "\r",
      "Training model...:  54%|█████████████████████████▉                      | 54/100 [1:22:23<48:58, 63.89s/it]"
     ]
    },
    {
     "name": "stdout",
     "output_type": "stream",
     "text": [
      "Training Loss: 0.56, Training Accuracy  0.99\n",
      "Testing Loss: 0.60, Testing Accuracy  0.95\n",
      "-------------------------------------------- \n",
      "\n",
      "Epoch 55\n"
     ]
    },
    {
     "name": "stderr",
     "output_type": "stream",
     "text": [
      "\r",
      "Training model...:  55%|██████████████████████████▍                     | 55/100 [1:23:13<44:39, 59.54s/it]"
     ]
    },
    {
     "name": "stdout",
     "output_type": "stream",
     "text": [
      "Training Loss: 0.56, Training Accuracy  1.00\n",
      "Testing Loss: 0.60, Testing Accuracy  0.95\n",
      "-------------------------------------------- \n",
      "\n",
      "Epoch 56\n"
     ]
    },
    {
     "name": "stderr",
     "output_type": "stream",
     "text": [
      "\r",
      "Training model...:  56%|██████████████████████████▉                     | 56/100 [1:24:04<41:47, 57.00s/it]"
     ]
    },
    {
     "name": "stdout",
     "output_type": "stream",
     "text": [
      "Training Loss: 0.56, Training Accuracy  1.00\n",
      "Testing Loss: 0.60, Testing Accuracy  0.95\n",
      "-------------------------------------------- \n",
      "\n",
      "Epoch 57\n"
     ]
    },
    {
     "name": "stderr",
     "output_type": "stream",
     "text": [
      "\r",
      "Training model...:  57%|███████████████████████████▎                    | 57/100 [1:24:54<39:16, 54.80s/it]"
     ]
    },
    {
     "name": "stdout",
     "output_type": "stream",
     "text": [
      "Training Loss: 0.56, Training Accuracy  1.00\n",
      "Testing Loss: 0.60, Testing Accuracy  0.95\n",
      "-------------------------------------------- \n",
      "\n",
      "Epoch 58\n"
     ]
    },
    {
     "name": "stderr",
     "output_type": "stream",
     "text": [
      "\r",
      "Training model...:  58%|███████████████████████████▊                    | 58/100 [1:25:45<37:42, 53.87s/it]"
     ]
    },
    {
     "name": "stdout",
     "output_type": "stream",
     "text": [
      "Training Loss: 0.56, Training Accuracy  1.00\n",
      "Testing Loss: 0.60, Testing Accuracy  0.95\n",
      "-------------------------------------------- \n",
      "\n",
      "Epoch 59\n"
     ]
    },
    {
     "name": "stderr",
     "output_type": "stream",
     "text": [
      "\r",
      "Training model...:  59%|████████████████████████████▎                   | 59/100 [1:26:33<35:35, 52.09s/it]"
     ]
    },
    {
     "name": "stdout",
     "output_type": "stream",
     "text": [
      "Training Loss: 0.56, Training Accuracy  1.00\n",
      "Testing Loss: 0.60, Testing Accuracy  0.95\n",
      "-------------------------------------------- \n",
      "\n",
      "Epoch 60\n"
     ]
    },
    {
     "name": "stderr",
     "output_type": "stream",
     "text": [
      "\r",
      "Training model...:  60%|████████████████████████████▊                   | 60/100 [1:27:20<33:44, 50.61s/it]"
     ]
    },
    {
     "name": "stdout",
     "output_type": "stream",
     "text": [
      "Training Loss: 0.56, Training Accuracy  1.00\n",
      "Testing Loss: 0.60, Testing Accuracy  0.95\n",
      "-------------------------------------------- \n",
      "\n",
      "Epoch 61\n"
     ]
    },
    {
     "name": "stderr",
     "output_type": "stream",
     "text": [
      "\r",
      "Training model...:  61%|█████████████████████████████▎                  | 61/100 [1:28:07<32:06, 49.40s/it]"
     ]
    },
    {
     "name": "stdout",
     "output_type": "stream",
     "text": [
      "Training Loss: 0.56, Training Accuracy  1.00\n",
      "Testing Loss: 0.60, Testing Accuracy  0.95\n",
      "-------------------------------------------- \n",
      "\n",
      "Epoch 62\n"
     ]
    },
    {
     "name": "stderr",
     "output_type": "stream",
     "text": [
      "\r",
      "Training model...:  62%|█████████████████████████████▊                  | 62/100 [1:28:55<31:04, 49.06s/it]"
     ]
    },
    {
     "name": "stdout",
     "output_type": "stream",
     "text": [
      "Training Loss: 0.56, Training Accuracy  1.00\n",
      "Testing Loss: 0.60, Testing Accuracy  0.95\n",
      "-------------------------------------------- \n",
      "\n",
      "Epoch 63\n"
     ]
    },
    {
     "name": "stderr",
     "output_type": "stream",
     "text": [
      "\r",
      "Training model...:  63%|████████████████████████████▎                | 63/100 [1:34:40<1:24:59, 137.81s/it]"
     ]
    },
    {
     "name": "stdout",
     "output_type": "stream",
     "text": [
      "Training Loss: 0.56, Training Accuracy  1.00\n",
      "Testing Loss: 0.60, Testing Accuracy  0.95\n",
      "-------------------------------------------- \n",
      "\n",
      "Epoch 64\n"
     ]
    },
    {
     "name": "stderr",
     "output_type": "stream",
     "text": [
      "\r",
      "Training model...:  64%|████████████████████████████▊                | 64/100 [1:36:13<1:14:31, 124.21s/it]"
     ]
    },
    {
     "name": "stdout",
     "output_type": "stream",
     "text": [
      "Training Loss: 0.56, Training Accuracy  1.00\n",
      "Testing Loss: 0.60, Testing Accuracy  0.95\n",
      "-------------------------------------------- \n",
      "\n",
      "Epoch 65\n"
     ]
    },
    {
     "name": "stderr",
     "output_type": "stream",
     "text": [
      "\r",
      "Training model...:  65%|██████████████████████████████▌                | 65/100 [1:36:59<58:45, 100.72s/it]"
     ]
    },
    {
     "name": "stdout",
     "output_type": "stream",
     "text": [
      "Training Loss: 0.56, Training Accuracy  1.00\n",
      "Testing Loss: 0.60, Testing Accuracy  0.95\n",
      "-------------------------------------------- \n",
      "\n",
      "Epoch 66\n"
     ]
    },
    {
     "name": "stderr",
     "output_type": "stream",
     "text": [
      "\r",
      "Training model...:  66%|███████████████████████████████▋                | 66/100 [1:37:44<47:44, 84.24s/it]"
     ]
    },
    {
     "name": "stdout",
     "output_type": "stream",
     "text": [
      "Training Loss: 0.56, Training Accuracy  1.00\n",
      "Testing Loss: 0.60, Testing Accuracy  0.95\n",
      "-------------------------------------------- \n",
      "\n",
      "Epoch 67\n"
     ]
    },
    {
     "name": "stderr",
     "output_type": "stream",
     "text": [
      "\r",
      "Training model...:  67%|████████████████████████████████▏               | 67/100 [1:38:30<39:57, 72.66s/it]"
     ]
    },
    {
     "name": "stdout",
     "output_type": "stream",
     "text": [
      "Training Loss: 0.56, Training Accuracy  1.00\n",
      "Testing Loss: 0.60, Testing Accuracy  0.95\n",
      "-------------------------------------------- \n",
      "\n",
      "Epoch 68\n"
     ]
    },
    {
     "name": "stderr",
     "output_type": "stream",
     "text": [
      "\r",
      "Training model...:  68%|████████████████████████████████▋               | 68/100 [1:39:15<34:23, 64.50s/it]"
     ]
    },
    {
     "name": "stdout",
     "output_type": "stream",
     "text": [
      "Training Loss: 0.56, Training Accuracy  1.00\n",
      "Testing Loss: 0.60, Testing Accuracy  0.95\n",
      "-------------------------------------------- \n",
      "\n",
      "Epoch 69\n"
     ]
    },
    {
     "name": "stderr",
     "output_type": "stream",
     "text": [
      "\r",
      "Training model...:  69%|█████████████████████████████████               | 69/100 [1:40:01<30:24, 58.84s/it]"
     ]
    },
    {
     "name": "stdout",
     "output_type": "stream",
     "text": [
      "Training Loss: 0.56, Training Accuracy  1.00\n",
      "Testing Loss: 0.60, Testing Accuracy  0.95\n",
      "-------------------------------------------- \n",
      "\n",
      "Epoch 70\n"
     ]
    },
    {
     "name": "stderr",
     "output_type": "stream",
     "text": [
      "\r",
      "Training model...:  70%|█████████████████████████████████▌              | 70/100 [1:40:47<27:28, 54.94s/it]"
     ]
    },
    {
     "name": "stdout",
     "output_type": "stream",
     "text": [
      "Training Loss: 0.56, Training Accuracy  1.00\n",
      "Testing Loss: 0.60, Testing Accuracy  0.95\n",
      "-------------------------------------------- \n",
      "\n",
      "Epoch 71\n"
     ]
    },
    {
     "name": "stderr",
     "output_type": "stream",
     "text": [
      "\r",
      "Training model...:  71%|██████████████████████████████████              | 71/100 [1:41:33<25:16, 52.30s/it]"
     ]
    },
    {
     "name": "stdout",
     "output_type": "stream",
     "text": [
      "Training Loss: 0.56, Training Accuracy  1.00\n",
      "Testing Loss: 0.60, Testing Accuracy  0.95\n",
      "-------------------------------------------- \n",
      "\n",
      "Epoch 72\n"
     ]
    },
    {
     "name": "stderr",
     "output_type": "stream",
     "text": [
      "\r",
      "Training model...:  72%|██████████████████████████████████▌             | 72/100 [1:42:19<23:32, 50.44s/it]"
     ]
    },
    {
     "name": "stdout",
     "output_type": "stream",
     "text": [
      "Training Loss: 0.56, Training Accuracy  1.00\n",
      "Testing Loss: 0.60, Testing Accuracy  0.95\n",
      "-------------------------------------------- \n",
      "\n",
      "Epoch 73\n"
     ]
    },
    {
     "name": "stderr",
     "output_type": "stream",
     "text": [
      "\r",
      "Training model...:  73%|███████████████████████████████████             | 73/100 [1:43:05<22:06, 49.12s/it]"
     ]
    },
    {
     "name": "stdout",
     "output_type": "stream",
     "text": [
      "Training Loss: 0.56, Training Accuracy  1.00\n",
      "Testing Loss: 0.60, Testing Accuracy  0.95\n",
      "-------------------------------------------- \n",
      "\n",
      "Epoch 74\n"
     ]
    },
    {
     "name": "stderr",
     "output_type": "stream",
     "text": [
      "\r",
      "Training model...:  74%|███████████████████████████████████▌            | 74/100 [1:43:51<20:54, 48.24s/it]"
     ]
    },
    {
     "name": "stdout",
     "output_type": "stream",
     "text": [
      "Training Loss: 0.56, Training Accuracy  1.00\n",
      "Testing Loss: 0.60, Testing Accuracy  0.95\n",
      "-------------------------------------------- \n",
      "\n",
      "Epoch 75\n"
     ]
    },
    {
     "name": "stderr",
     "output_type": "stream",
     "text": [
      "\r",
      "Training model...:  75%|████████████████████████████████████            | 75/100 [1:44:38<19:53, 47.73s/it]"
     ]
    },
    {
     "name": "stdout",
     "output_type": "stream",
     "text": [
      "Training Loss: 0.56, Training Accuracy  1.00\n",
      "Testing Loss: 0.60, Testing Accuracy  0.95\n",
      "-------------------------------------------- \n",
      "\n",
      "Epoch 76\n"
     ]
    },
    {
     "name": "stderr",
     "output_type": "stream",
     "text": [
      "\r",
      "Training model...:  76%|████████████████████████████████████▍           | 76/100 [1:45:25<18:58, 47.45s/it]"
     ]
    },
    {
     "name": "stdout",
     "output_type": "stream",
     "text": [
      "Training Loss: 0.56, Training Accuracy  1.00\n",
      "Testing Loss: 0.60, Testing Accuracy  0.95\n",
      "-------------------------------------------- \n",
      "\n",
      "Epoch 77\n"
     ]
    },
    {
     "name": "stderr",
     "output_type": "stream",
     "text": [
      "\r",
      "Training model...:  77%|████████████████████████████████████▉           | 77/100 [1:46:15<18:32, 48.38s/it]"
     ]
    },
    {
     "name": "stdout",
     "output_type": "stream",
     "text": [
      "Training Loss: 0.56, Training Accuracy  1.00\n",
      "Testing Loss: 0.60, Testing Accuracy  0.95\n",
      "-------------------------------------------- \n",
      "\n",
      "Epoch 78\n"
     ]
    },
    {
     "name": "stderr",
     "output_type": "stream",
     "text": [
      "\r",
      "Training model...:  78%|███████████████████████████████████          | 78/100 [2:03:08<2:03:52, 337.83s/it]"
     ]
    },
    {
     "name": "stdout",
     "output_type": "stream",
     "text": [
      "Training Loss: 0.56, Training Accuracy  1.00\n",
      "Testing Loss: 0.60, Testing Accuracy  0.95\n",
      "-------------------------------------------- \n",
      "\n",
      "Epoch 79\n"
     ]
    },
    {
     "name": "stderr",
     "output_type": "stream",
     "text": [
      "\r",
      "Training model...:  79%|███████████████████████████████████▌         | 79/100 [2:21:11<3:16:23, 561.12s/it]"
     ]
    },
    {
     "name": "stdout",
     "output_type": "stream",
     "text": [
      "Training Loss: 0.56, Training Accuracy  1.00\n",
      "Testing Loss: 0.60, Testing Accuracy  0.95\n",
      "-------------------------------------------- \n",
      "\n",
      "Epoch 80\n"
     ]
    },
    {
     "name": "stderr",
     "output_type": "stream",
     "text": [
      "\r",
      "Training model...:  80%|████████████████████████████████████         | 80/100 [2:26:56<2:45:26, 496.31s/it]"
     ]
    },
    {
     "name": "stdout",
     "output_type": "stream",
     "text": [
      "Training Loss: 0.56, Training Accuracy  1.00\n",
      "Testing Loss: 0.60, Testing Accuracy  0.95\n",
      "-------------------------------------------- \n",
      "\n",
      "Epoch 81\n"
     ]
    },
    {
     "name": "stderr",
     "output_type": "stream",
     "text": [
      "\r",
      "Training model...:  81%|████████████████████████████████████▍        | 81/100 [2:32:40<2:22:42, 450.67s/it]"
     ]
    },
    {
     "name": "stdout",
     "output_type": "stream",
     "text": [
      "Training Loss: 0.56, Training Accuracy  1.00\n",
      "Testing Loss: 0.60, Testing Accuracy  0.95\n",
      "-------------------------------------------- \n",
      "\n",
      "Epoch 82\n"
     ]
    },
    {
     "name": "stderr",
     "output_type": "stream",
     "text": [
      "\r",
      "Training model...:  82%|████████████████████████████████████▉        | 82/100 [2:33:26<1:38:46, 329.24s/it]"
     ]
    },
    {
     "name": "stdout",
     "output_type": "stream",
     "text": [
      "Training Loss: 0.56, Training Accuracy  1.00\n",
      "Testing Loss: 0.60, Testing Accuracy  0.95\n",
      "-------------------------------------------- \n",
      "\n",
      "Epoch 83\n"
     ]
    },
    {
     "name": "stderr",
     "output_type": "stream",
     "text": [
      "\r",
      "Training model...:  83%|█████████████████████████████████████▎       | 83/100 [2:39:10<1:34:32, 333.69s/it]"
     ]
    },
    {
     "name": "stdout",
     "output_type": "stream",
     "text": [
      "Training Loss: 0.56, Training Accuracy  1.00\n",
      "Testing Loss: 0.60, Testing Accuracy  0.95\n",
      "-------------------------------------------- \n",
      "\n",
      "Epoch 84\n"
     ]
    },
    {
     "name": "stderr",
     "output_type": "stream",
     "text": [
      "\r",
      "Training model...:  84%|█████████████████████████████████████▊       | 84/100 [2:55:21<2:19:58, 524.89s/it]"
     ]
    },
    {
     "name": "stdout",
     "output_type": "stream",
     "text": [
      "Training Loss: 0.56, Training Accuracy  1.00\n",
      "Testing Loss: 0.60, Testing Accuracy  0.95\n",
      "-------------------------------------------- \n",
      "\n",
      "Epoch 85\n"
     ]
    },
    {
     "name": "stderr",
     "output_type": "stream",
     "text": [
      "\r",
      "Training model...:  85%|██████████████████████████████████████▎      | 85/100 [3:11:28<2:44:22, 657.47s/it]"
     ]
    },
    {
     "name": "stdout",
     "output_type": "stream",
     "text": [
      "Training Loss: 0.56, Training Accuracy  1.00\n",
      "Testing Loss: 0.60, Testing Accuracy  0.95\n",
      "-------------------------------------------- \n",
      "\n",
      "Epoch 86\n"
     ]
    },
    {
     "name": "stderr",
     "output_type": "stream",
     "text": [
      "\r",
      "Training model...:  86%|██████████████████████████████████████▋      | 86/100 [3:29:05<3:01:23, 777.36s/it]"
     ]
    },
    {
     "name": "stdout",
     "output_type": "stream",
     "text": [
      "Training Loss: 0.56, Training Accuracy  1.00\n",
      "Testing Loss: 0.60, Testing Accuracy  0.95\n",
      "-------------------------------------------- \n",
      "\n",
      "Epoch 87\n"
     ]
    },
    {
     "name": "stderr",
     "output_type": "stream",
     "text": [
      "\r",
      "Training model...:  87%|███████████████████████████████████████▏     | 87/100 [3:45:40<3:02:34, 842.66s/it]"
     ]
    },
    {
     "name": "stdout",
     "output_type": "stream",
     "text": [
      "Training Loss: 0.56, Training Accuracy  1.00\n",
      "Testing Loss: 0.60, Testing Accuracy  0.95\n",
      "-------------------------------------------- \n",
      "\n",
      "Epoch 88\n"
     ]
    },
    {
     "name": "stderr",
     "output_type": "stream",
     "text": [
      "\r",
      "Training model...:  88%|███████████████████████████████████████▌     | 88/100 [3:46:25<2:00:42, 603.57s/it]"
     ]
    },
    {
     "name": "stdout",
     "output_type": "stream",
     "text": [
      "Training Loss: 0.56, Training Accuracy  1.00\n",
      "Testing Loss: 0.60, Testing Accuracy  0.95\n",
      "-------------------------------------------- \n",
      "\n",
      "Epoch 89\n"
     ]
    },
    {
     "name": "stderr",
     "output_type": "stream",
     "text": [
      "\r",
      "Training model...:  89%|████████████████████████████████████████     | 89/100 [3:47:11<1:19:58, 436.20s/it]"
     ]
    },
    {
     "name": "stdout",
     "output_type": "stream",
     "text": [
      "Training Loss: 0.56, Training Accuracy  1.00\n",
      "Testing Loss: 0.60, Testing Accuracy  0.95\n",
      "-------------------------------------------- \n",
      "\n",
      "Epoch 90\n"
     ]
    },
    {
     "name": "stderr",
     "output_type": "stream",
     "text": [
      "\r",
      "Training model...:  90%|██████████████████████████████████████████▎    | 90/100 [3:47:57<53:10, 319.00s/it]"
     ]
    },
    {
     "name": "stdout",
     "output_type": "stream",
     "text": [
      "Training Loss: 0.56, Training Accuracy  1.00\n",
      "Testing Loss: 0.60, Testing Accuracy  0.95\n",
      "-------------------------------------------- \n",
      "\n",
      "Epoch 91\n"
     ]
    },
    {
     "name": "stderr",
     "output_type": "stream",
     "text": [
      "\r",
      "Training model...:  91%|██████████████████████████████████████████▊    | 91/100 [3:48:43<35:35, 237.23s/it]"
     ]
    },
    {
     "name": "stdout",
     "output_type": "stream",
     "text": [
      "Training Loss: 0.56, Training Accuracy  1.00\n",
      "Testing Loss: 0.60, Testing Accuracy  0.95\n",
      "-------------------------------------------- \n",
      "\n",
      "Epoch 92\n"
     ]
    },
    {
     "name": "stderr",
     "output_type": "stream",
     "text": [
      "\r",
      "Training model...:  92%|███████████████████████████████████████████▏   | 92/100 [3:49:29<23:59, 179.94s/it]"
     ]
    },
    {
     "name": "stdout",
     "output_type": "stream",
     "text": [
      "Training Loss: 0.56, Training Accuracy  1.00\n",
      "Testing Loss: 0.60, Testing Accuracy  0.95\n",
      "-------------------------------------------- \n",
      "\n",
      "Epoch 93\n"
     ]
    },
    {
     "name": "stderr",
     "output_type": "stream",
     "text": [
      "\r",
      "Training model...:  93%|███████████████████████████████████████████▋   | 93/100 [3:50:16<16:19, 139.92s/it]"
     ]
    },
    {
     "name": "stdout",
     "output_type": "stream",
     "text": [
      "Training Loss: 0.56, Training Accuracy  1.00\n",
      "Testing Loss: 0.60, Testing Accuracy  0.95\n",
      "-------------------------------------------- \n",
      "\n",
      "Epoch 94\n"
     ]
    },
    {
     "name": "stderr",
     "output_type": "stream",
     "text": [
      "\r",
      "Training model...:  94%|████████████████████████████████████████████▏  | 94/100 [3:51:02<11:11, 111.90s/it]"
     ]
    },
    {
     "name": "stdout",
     "output_type": "stream",
     "text": [
      "Training Loss: 0.56, Training Accuracy  1.00\n",
      "Testing Loss: 0.60, Testing Accuracy  0.95\n",
      "-------------------------------------------- \n",
      "\n",
      "Epoch 95\n"
     ]
    },
    {
     "name": "stderr",
     "output_type": "stream",
     "text": [
      "\r",
      "Training model...:  95%|█████████████████████████████████████████████▌  | 95/100 [3:51:49<07:41, 92.29s/it]"
     ]
    },
    {
     "name": "stdout",
     "output_type": "stream",
     "text": [
      "Training Loss: 0.56, Training Accuracy  1.00\n",
      "Testing Loss: 0.60, Testing Accuracy  0.95\n",
      "-------------------------------------------- \n",
      "\n",
      "Epoch 96\n"
     ]
    },
    {
     "name": "stderr",
     "output_type": "stream",
     "text": [
      "\r",
      "Training model...:  96%|██████████████████████████████████████████████  | 96/100 [3:52:35<05:14, 78.51s/it]"
     ]
    },
    {
     "name": "stdout",
     "output_type": "stream",
     "text": [
      "Training Loss: 0.56, Training Accuracy  1.00\n",
      "Testing Loss: 0.60, Testing Accuracy  0.95\n",
      "-------------------------------------------- \n",
      "\n",
      "Epoch 97\n"
     ]
    },
    {
     "name": "stderr",
     "output_type": "stream",
     "text": [
      "\r",
      "Training model...:  97%|██████████████████████████████████████████████▌ | 97/100 [3:53:22<03:26, 68.89s/it]"
     ]
    },
    {
     "name": "stdout",
     "output_type": "stream",
     "text": [
      "Training Loss: 0.56, Training Accuracy  1.00\n",
      "Testing Loss: 0.60, Testing Accuracy  0.95\n",
      "-------------------------------------------- \n",
      "\n",
      "Epoch 98\n"
     ]
    },
    {
     "name": "stderr",
     "output_type": "stream",
     "text": [
      "\r",
      "Training model...:  98%|███████████████████████████████████████████████ | 98/100 [3:54:09<02:04, 62.29s/it]"
     ]
    },
    {
     "name": "stdout",
     "output_type": "stream",
     "text": [
      "Training Loss: 0.56, Training Accuracy  1.00\n",
      "Testing Loss: 0.60, Testing Accuracy  0.95\n",
      "-------------------------------------------- \n",
      "\n",
      "Epoch 99\n"
     ]
    },
    {
     "name": "stderr",
     "output_type": "stream",
     "text": [
      "\r",
      "Training model...:  99%|███████████████████████████████████████████████▌| 99/100 [3:54:55<00:57, 57.51s/it]"
     ]
    },
    {
     "name": "stdout",
     "output_type": "stream",
     "text": [
      "Training Loss: 0.56, Training Accuracy  1.00\n",
      "Testing Loss: 0.60, Testing Accuracy  0.95\n",
      "-------------------------------------------- \n",
      "\n",
      "Epoch 100\n"
     ]
    },
    {
     "name": "stderr",
     "output_type": "stream",
     "text": [
      "Training model...: 100%|██████████████████████████████████████████████| 100/100 [3:55:42<00:00, 141.42s/it]"
     ]
    },
    {
     "name": "stdout",
     "output_type": "stream",
     "text": [
      "Training Loss: 0.56, Training Accuracy  1.00\n",
      "Testing Loss: 0.60, Testing Accuracy  0.95\n",
      "-------------------------------------------- \n",
      "\n",
      "---- Finished Training ----\n"
     ]
    },
    {
     "name": "stderr",
     "output_type": "stream",
     "text": [
      "\n"
     ]
    }
   ],
   "source": [
    "history = train(\n",
    "    model,\n",
    "    train_dataloader,\n",
    "    loss_fn,\n",
    "    optimizer,\n",
    "    device,\n",
    "    EPOCHS,\n",
    "    test_dataloader\n",
    ")"
   ]
  },
  {
   "cell_type": "markdown",
   "id": "8cac50bd",
   "metadata": {},
   "source": [
    "# Visualizations"
   ]
  },
  {
   "cell_type": "code",
   "execution_count": 13,
   "id": "eaa122e1",
   "metadata": {},
   "outputs": [],
   "source": [
    "training_acc = history[0]\n",
    "training_loss = history[1]\n",
    "\n",
    "testing_acc = history[2]\n",
    "testing_loss = history[3]"
   ]
  },
  {
   "cell_type": "code",
   "execution_count": 14,
   "id": "e2400f45",
   "metadata": {},
   "outputs": [
    {
     "data": {
      "text/plain": [
       "[0.8374877450980392,\n",
       " 0.8210804738562091,\n",
       " 0.7776654411764705,\n",
       " 0.8229084967320262,\n",
       " 0.8986928104575163,\n",
       " 0.9012969771241829,\n",
       " 0.9519035947712419,\n",
       " 0.9622385620915032,\n",
       " 0.9646691176470588,\n",
       " 0.9626674836601308,\n",
       " 0.9725674019607843,\n",
       " 0.9748243464052287,\n",
       " 0.9399244281045752,\n",
       " 0.9599816176470587,\n",
       " 0.9701368464052288,\n",
       " 0.9713541666666666,\n",
       " 0.9742177287581698,\n",
       " 0.9750837418300653,\n",
       " 0.9717013888888889,\n",
       " 0.9637949346405228,\n",
       " 0.911188725490196,\n",
       " 0.9630187908496732,\n",
       " 0.9770812908496732,\n",
       " 0.9781209150326797,\n",
       " 0.983766339869281,\n",
       " 0.9860232843137254,\n",
       " 0.9878451797385621,\n",
       " 0.9881944444444445,\n",
       " 0.9877593954248365,\n",
       " 0.9890625,\n",
       " 0.9874121732026143,\n",
       " 0.9896691176470588,\n",
       " 0.9783803104575163,\n",
       " 0.9782087418300652,\n",
       " 0.9789052287581699,\n",
       " 0.9285559640522875,\n",
       " 0.9646670751633987,\n",
       " 0.9842871732026143,\n",
       " 0.9876736111111111,\n",
       " 0.9861111111111112,\n",
       " 0.9729166666666667,\n",
       " 0.9882802287581699,\n",
       " 0.9895812908496732,\n",
       " 0.9901041666666667,\n",
       " 0.9905371732026143,\n",
       " 0.9928819444444444,\n",
       " 0.9944444444444445,\n",
       " 0.9946180555555556,\n",
       " 0.9946180555555556,\n",
       " 0.9945302287581699,\n",
       " 0.9947916666666666,\n",
       " 0.9946160130718954,\n",
       " 0.9907986111111111,\n",
       " 0.9944444444444445,\n",
       " 0.9953125,\n",
       " 0.9956597222222222,\n",
       " 0.9953125,\n",
       " 0.9952246732026143,\n",
       " 0.9963541666666667,\n",
       " 0.9963541666666667,\n",
       " 0.9961785130718954,\n",
       " 0.9963541666666667,\n",
       " 0.9962663398692809,\n",
       " 0.9963541666666667,\n",
       " 0.9962663398692809,\n",
       " 0.9963541666666667,\n",
       " 0.9962663398692809,\n",
       " 0.9963541666666667,\n",
       " 0.9963541666666667,\n",
       " 0.9963541666666667,\n",
       " 0.9963541666666667,\n",
       " 0.9963541666666667,\n",
       " 0.9963541666666667,\n",
       " 0.9963541666666667,\n",
       " 0.9963541666666667,\n",
       " 0.9961785130718954,\n",
       " 0.9963541666666667,\n",
       " 0.9963541666666667,\n",
       " 0.9963541666666667,\n",
       " 0.9963541666666667,\n",
       " 0.9962663398692809,\n",
       " 0.9961785130718954,\n",
       " 0.9963541666666667,\n",
       " 0.9963541666666667,\n",
       " 0.9963541666666667,\n",
       " 0.9962663398692809,\n",
       " 0.9962663398692809,\n",
       " 0.9962663398692809,\n",
       " 0.9963541666666667,\n",
       " 0.9963541666666667,\n",
       " 0.9962663398692809,\n",
       " 0.9963541666666667,\n",
       " 0.9963541666666667,\n",
       " 0.9963541666666667,\n",
       " 0.9963541666666667,\n",
       " 0.9963541666666667,\n",
       " 0.9963541666666667,\n",
       " 0.9963541666666667,\n",
       " 0.9963541666666667,\n",
       " 0.9963541666666667]"
      ]
     },
     "execution_count": 14,
     "metadata": {},
     "output_type": "execute_result"
    }
   ],
   "source": [
    "training_acc"
   ]
  },
  {
   "cell_type": "code",
   "execution_count": 15,
   "id": "6975fa21",
   "metadata": {},
   "outputs": [
    {
     "data": {
      "image/png": "[encoded data removed]",
      "text/plain": [
       "<Figure size 640x480 with 2 Axes>"
      ]
     },
     "metadata": {},
     "output_type": "display_data"
    }
   ],
   "source": [
    "fig = plt.figure()\n",
    "fig.suptitle(\"Accuracy\")\n",
    "ax = fig.subplots(1, 2)\n",
    "ax[0].plot(training_acc)\n",
    "ax[0].title.set_text(\"Training\")\n",
    "ax[1].plot(testing_acc)\n",
    "ax[1].title.set_text(\"Testing\")"
   ]
  },
  {
   "cell_type": "code",
   "execution_count": 16,
   "id": "6b450d02",
   "metadata": {},
   "outputs": [
    {
     "data": {
      "image/png": "[encoded data removed]",
      "text/plain": [
       "<Figure size 640x480 with 2 Axes>"
      ]
     },
     "metadata": {},
     "output_type": "display_data"
    }
   ],
   "source": [
    "fig = plt.figure()\n",
    "fig.suptitle(\"Loss\")\n",
    "ax = fig.subplots(1, 2)\n",
    "ax[0].plot(training_loss)\n",
    "ax[0].title.set_text(\"Training\")\n",
    "ax[1].plot(testing_loss)\n",
    "ax[1].title.set_text(\"Testing\")"
   ]
  },
  {
   "cell_type": "code",
   "execution_count": null,
   "id": "5baf98fd",
   "metadata": {},
   "outputs": [],
   "source": []
  }
 ],
 "metadata": {
  "kernelspec": {
   "display_name": "Python 3 (ipykernel)",
   "language": "python",
   "name": "python3"
  },
  "language_info": {
   "codemirror_mode": {
    "name": "ipython",
    "version": 3
   },
   "file_extension": ".py",
   "mimetype": "text/x-python",
   "name": "python",
   "nbconvert_exporter": "python",
   "pygments_lexer": "ipython3",
   "version": "3.9.16"
  }
 },
 "nbformat": 4,
 "nbformat_minor": 5
}
