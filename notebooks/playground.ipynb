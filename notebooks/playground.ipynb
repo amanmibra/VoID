{
 "cells": [
  {
   "cell_type": "code",
   "execution_count": 8,
   "id": "7f11e761",
   "metadata": {},
   "outputs": [],
   "source": [
    "%load_ext autoreload\n",
    "%autoreload 2"
   ]
  },
  {
   "cell_type": "code",
   "execution_count": 10,
   "id": "f3deb79d",
   "metadata": {},
   "outputs": [],
   "source": [
    "import sys\n",
    "sys.path.append('..')"
   ]
  },
  {
   "cell_type": "code",
   "execution_count": 76,
   "id": "eb9888a5",
   "metadata": {},
   "outputs": [],
   "source": [
    "import os\n",
    "\n",
    "import torch"
   ]
  },
  {
   "cell_type": "code",
   "execution_count": 77,
   "id": "75440e63",
   "metadata": {},
   "outputs": [],
   "source": [
    "from dataset import *"
   ]
  },
  {
   "cell_type": "code",
   "execution_count": 78,
   "id": "5b51f712",
   "metadata": {},
   "outputs": [
    {
     "name": "stdout",
     "output_type": "stream",
     "text": [
      "Using device cpu\n"
     ]
    }
   ],
   "source": [
    "if torch.cuda.is_available():\n",
    "        device = \"cuda\"\n",
    "else:\n",
    "        device = \"cpu\"\n",
    "print(f\"Using device {device}\")"
   ]
  },
  {
   "cell_type": "code",
   "execution_count": 80,
   "id": "253f87d6",
   "metadata": {},
   "outputs": [],
   "source": [
    "mel_spectrogram = torchaudio.transforms.MelSpectrogram(\n",
    "        sample_rate=16000,\n",
    "        n_fft=1024,\n",
    "        hop_length=512,\n",
    "        n_mels=64\n",
    "    )\n",
    "dataset = VoiceDataset('../data', mel_spectrogram, 16000, device)"
   ]
  },
  {
   "cell_type": "code",
   "execution_count": 81,
   "id": "3d5c127a",
   "metadata": {},
   "outputs": [
    {
     "data": {
      "text/plain": [
       "5718"
      ]
     },
     "execution_count": 81,
     "metadata": {},
     "output_type": "execute_result"
    }
   ],
   "source": [
    "len(dataset)"
   ]
  },
  {
   "cell_type": "code",
   "execution_count": 82,
   "id": "cbac184f",
   "metadata": {},
   "outputs": [
    {
     "data": {
      "text/plain": [
       "(tensor([[[0.2647, 0.0247, 0.0324,  ..., 0.0230, 0.1026, 0.5454],\n",
       "          [0.0812, 0.0178, 0.0890,  ..., 0.2376, 0.5061, 0.5292],\n",
       "          [0.0052, 0.0212, 0.1341,  ..., 0.9336, 0.2778, 0.1372],\n",
       "          ...,\n",
       "          [0.5154, 0.3950, 0.4497,  ..., 0.4916, 0.4505, 0.7709],\n",
       "          [0.1919, 0.4804, 0.5144,  ..., 0.5931, 0.4466, 0.4706],\n",
       "          [0.1208, 0.4357, 0.4016,  ..., 0.5168, 0.7007, 0.3696]]]),\n",
       " 'aman')"
      ]
     },
     "execution_count": 82,
     "metadata": {},
     "output_type": "execute_result"
    }
   ],
   "source": [
    "dataset[0]"
   ]
  },
  {
   "cell_type": "code",
   "execution_count": 83,
   "id": "2bd8c582",
   "metadata": {},
   "outputs": [
    {
     "data": {
      "text/plain": [
       "torch.Size([1, 64, 157])"
      ]
     },
     "execution_count": 83,
     "metadata": {},
     "output_type": "execute_result"
    }
   ],
   "source": [
    "dataset[0][0].shape"
   ]
  },
  {
   "cell_type": "code",
   "execution_count": null,
   "id": "c3c7b1d4",
   "metadata": {},
   "outputs": [],
   "source": []
  }
 ],
 "metadata": {
  "kernelspec": {
   "display_name": "Python 3 (ipykernel)",
   "language": "python",
   "name": "python3"
  },
  "language_info": {
   "codemirror_mode": {
    "name": "ipython",
    "version": 3
   },
   "file_extension": ".py",
   "mimetype": "text/x-python",
   "name": "python",
   "nbconvert_exporter": "python",
   "pygments_lexer": "ipython3",
   "version": "3.9.16"
  }
 },
 "nbformat": 4,
 "nbformat_minor": 5
}
