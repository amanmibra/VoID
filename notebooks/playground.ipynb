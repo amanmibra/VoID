{
 "cells": [
  {
   "cell_type": "code",
   "execution_count": 8,
   "id": "26db4cdb",
   "metadata": {},
   "outputs": [],
   "source": [
    "%load_ext autoreload\n",
    "%autoreload 2"
   ]
  },
  {
   "cell_type": "code",
   "execution_count": 10,
   "id": "c8244b70",
   "metadata": {},
   "outputs": [],
   "source": [
    "import sys\n",
    "sys.path.append('..')"
   ]
  },
  {
   "cell_type": "code",
   "execution_count": 18,
   "id": "f3fd2d28",
   "metadata": {},
   "outputs": [],
   "source": [
    "import os"
   ]
  },
  {
   "cell_type": "code",
   "execution_count": 14,
   "id": "da9fe647",
   "metadata": {},
   "outputs": [],
   "source": [
    "from dataset import *"
   ]
  },
  {
   "cell_type": "code",
   "execution_count": 15,
   "id": "70905d2d",
   "metadata": {},
   "outputs": [
    {
     "data": {
      "text/plain": [
       "dataset.VoiceDataset"
      ]
     },
     "execution_count": 15,
     "metadata": {},
     "output_type": "execute_result"
    }
   ],
   "source": [
    "VoiceDataset"
   ]
  },
  {
   "cell_type": "code",
   "execution_count": 64,
   "id": "523d28f9",
   "metadata": {},
   "outputs": [],
   "source": [
    "mel_spectrogram = torchaudio.transforms.MelSpectrogram(\n",
    "        sample_rate=16000,\n",
    "        n_fft=1024,\n",
    "        hop_length=512,\n",
    "        n_mels=64\n",
    "    )\n",
    "dataset = VoiceDataset('../data', mel_spectrogram, 16000,)"
   ]
  },
  {
   "cell_type": "code",
   "execution_count": 65,
   "id": "0044724d",
   "metadata": {},
   "outputs": [
    {
     "data": {
      "text/plain": [
       "5718"
      ]
     },
     "execution_count": 65,
     "metadata": {},
     "output_type": "execute_result"
    }
   ],
   "source": [
    "len(dataset)"
   ]
  },
  {
   "cell_type": "code",
   "execution_count": 66,
   "id": "df7a9e58",
   "metadata": {},
   "outputs": [
    {
     "data": {
      "text/plain": [
       "(tensor([[[0.2647, 0.0247, 0.0324,  ..., 0.0000, 0.0000, 0.0000],\n",
       "          [0.0812, 0.0178, 0.0890,  ..., 0.0000, 0.0000, 0.0000],\n",
       "          [0.0052, 0.0212, 0.1341,  ..., 0.0000, 0.0000, 0.0000],\n",
       "          ...,\n",
       "          [0.5154, 0.3950, 0.4497,  ..., 0.0000, 0.0000, 0.0000],\n",
       "          [0.1919, 0.4804, 0.5144,  ..., 0.0000, 0.0000, 0.0000],\n",
       "          [0.1208, 0.4357, 0.4016,  ..., 0.0000, 0.0000, 0.0000]]]),\n",
       " 'aman')"
      ]
     },
     "execution_count": 66,
     "metadata": {},
     "output_type": "execute_result"
    }
   ],
   "source": [
    "dataset[0]"
   ]
  },
  {
   "cell_type": "code",
   "execution_count": 67,
   "id": "df064dbc",
   "metadata": {},
   "outputs": [
    {
     "data": {
      "text/plain": [
       "torch.Size([1, 64, 313])"
      ]
     },
     "execution_count": 67,
     "metadata": {},
     "output_type": "execute_result"
    }
   ],
   "source": [
    "dataset[0][0].shape"
   ]
  },
  {
   "cell_type": "code",
   "execution_count": null,
   "id": "ed4899bf",
   "metadata": {},
   "outputs": [],
   "source": []
  }
 ],
 "metadata": {
  "kernelspec": {
   "display_name": "Python 3 (ipykernel)",
   "language": "python",
   "name": "python3"
  },
  "language_info": {
   "codemirror_mode": {
    "name": "ipython",
    "version": 3
   },
   "file_extension": ".py",
   "mimetype": "text/x-python",
   "name": "python",
   "nbconvert_exporter": "python",
   "pygments_lexer": "ipython3",
   "version": "3.9.16"
  }
 },
 "nbformat": 4,
 "nbformat_minor": 5
}
